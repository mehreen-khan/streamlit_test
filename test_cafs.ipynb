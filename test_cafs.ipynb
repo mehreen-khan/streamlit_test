{
 "cells": [
  {
   "cell_type": "code",
   "execution_count": 1,
   "id": "92b69a9c",
   "metadata": {},
   "outputs": [],
   "source": [
    "import os\n",
    "import subprocess \n",
    "from subprocess import Popen, PIPE\n",
    "import geemap\n",
    "import geopandas\n",
    "import streamlit as st\n",
    "from subprocess import check_output as qx"
   ]
  },
  {
   "cell_type": "code",
   "execution_count": 2,
   "id": "e751ef70",
   "metadata": {},
   "outputs": [],
   "source": [
    "import csv\n",
    "import pandas as pd\n",
    "import numpy as np\n",
    "import matplotlib.pyplot as plt\n",
    "import sys\n",
    "import plotly.express as px"
   ]
  },
  {
   "cell_type": "code",
   "execution_count": 3,
   "id": "22aa3445",
   "metadata": {},
   "outputs": [],
   "source": [
    "\n",
    "p = subprocess.Popen(r'C:\\Users\\user\\Desktop\\New folder\\model.exe',stdout=subprocess.PIPE,stderr=subprocess.PIPE)\n",
    "output, errors = p.communicate()"
   ]
  },
  {
   "cell_type": "code",
   "execution_count": 4,
   "id": "ff1c774b",
   "metadata": {},
   "outputs": [
    {
     "name": "stdout",
     "output_type": "stream",
     "text": [
      "*----------------------------------------------------------------------------\n",
      "* Output table number  :  0 (=first output table)\n",
      "* Output table format  : Spreadsheet output\n",
      "* Simulation results\n",
      "*  INFOCROP    VERSION 2.1 DATED 1 January 2013\n",
      " \n",
      "TIME\tYIELD\n",
      " \n",
      "   300.000    \t  0.0000    \n",
      "   301.000    \t  0.0000    \n",
      "   302.000    \t  0.0000    \n",
      "   303.000    \t  0.0000    \n",
      "   304.000    \t  0.0000    \n",
      "   305.000    \t  0.0000    \n",
      "   306.000    \t  0.0000    \n",
      "   307.000    \t  0.0000    \n",
      "   308.000    \t  0.0000    \n",
      "   309.000    \t  0.0000    \n",
      "   310.000    \t  0.0000    \n",
      "   311.000    \t  0.0000    \n",
      "   312.000    \t  0.0000    \n",
      "   313.000    \t  0.0000    \n",
      "   314.000    \t  0.0000    \n",
      "   315.000    \t  0.0000    \n",
      "   316.000    \t  0.0000    \n",
      "   317.000    \t  0.0000    \n",
      "   318.000    \t  0.0000    \n",
      "   319.000    \t  0.0000    \n",
      "   320.000    \t  0.0000    \n",
      "   321.000    \t  0.0000    \n",
      "   322.000    \t  0.0000    \n",
      "   323.000    \t  0.0000    \n",
      "   324.000    \t  0.0000    \n",
      "   325.000    \t  0.0000    \n",
      "   326.000    \t  0.0000    \n",
      "   327.000    \t  0.0000    \n",
      "   328.000    \t  0.0000    \n",
      "   329.000    \t  0.0000    \n",
      "   330.000    \t  0.0000    \n",
      "   331.000    \t  0.0000    \n",
      "   332.000    \t  0.0000    \n",
      "   333.000    \t  0.0000    \n",
      "   334.000    \t  0.0000    \n",
      "   335.000    \t  0.0000    \n",
      "   336.000    \t  0.0000    \n",
      "   337.000    \t  0.0000    \n",
      "   338.000    \t  0.0000    \n",
      "   339.000    \t  0.0000    \n",
      "   340.000    \t  0.0000    \n",
      "   341.000    \t  0.0000    \n",
      "   342.000    \t  0.0000    \n",
      "   343.000    \t  0.0000    \n",
      "   344.000    \t  0.0000    \n",
      "   345.000    \t  0.0000    \n",
      "   346.000    \t  0.0000    \n",
      "   347.000    \t  0.0000    \n",
      "   348.000    \t  0.0000    \n",
      "   349.000    \t  0.0000    \n",
      "   350.000    \t  0.0000    \n",
      "   351.000    \t  0.0000    \n",
      "   352.000    \t  0.0000    \n",
      "   353.000    \t  0.0000    \n",
      "   354.000    \t  0.0000    \n",
      "   355.000    \t  0.0000    \n",
      "   356.000    \t  0.0000    \n",
      "   357.000    \t  0.0000    \n",
      "   358.000    \t  0.0000    \n",
      "   359.000    \t  0.0000    \n",
      "   360.000    \t  0.0000    \n",
      "   361.000    \t  0.0000    \n",
      "   362.000    \t  0.0000    \n",
      "   363.000    \t  0.0000    \n",
      "   364.000    \t  0.0000    \n",
      "   365.000    \t  0.0000    \n",
      "   366.000    \t  0.0000    \n",
      "   367.000    \t  0.0000    \n",
      "   368.000    \t  0.0000    \n",
      "   369.000    \t  0.0000    \n",
      "   370.000    \t  0.0000    \n",
      "   371.000    \t  0.0000    \n",
      "   372.000    \t  0.0000    \n",
      "   373.000    \t  0.0000    \n",
      "   374.000    \t  0.0000    \n",
      "   375.000    \t  0.0000    \n",
      "   376.000    \t  0.0000    \n",
      "   377.000    \t  0.0000    \n",
      "   378.000    \t  0.0000    \n",
      "   379.000    \t  0.0000    \n",
      "   380.000    \t  0.0000    \n",
      "   381.000    \t  0.0000    \n",
      "   382.000    \t  0.0000    \n",
      "   383.000    \t  0.0000    \n",
      "   384.000    \t  0.0000    \n",
      "   385.000    \t  0.0000    \n",
      "   386.000    \t  0.0000    \n",
      "   387.000    \t  0.0000    \n",
      "   388.000    \t  0.0000    \n",
      "   389.000    \t  0.0000    \n",
      "   390.000    \t  0.0000    \n",
      "   391.000    \t  0.0000    \n",
      "   392.000    \t  0.0000    \n",
      "   393.000    \t  0.0000    \n",
      "   394.000    \t  0.0000    \n",
      "   395.000    \t  0.0000    \n",
      "   396.000    \t  171.64    \n",
      "   397.000    \t  373.65    \n",
      "   398.000    \t  510.67    \n",
      "   399.000    \t  635.46    \n",
      "   400.000    \t  759.38    \n",
      "   401.000    \t  889.91    \n",
      "   402.000    \t  1018.2    \n",
      "   403.000    \t  1151.5    \n",
      "   404.000    \t  1317.8    \n",
      "   405.000    \t  1450.2    \n",
      "   406.000    \t  1594.5    \n",
      "   407.000    \t  1735.4    \n",
      "   408.000    \t  1888.0    \n",
      "   409.000    \t  1937.5    \n",
      "   410.000    \t  2130.3    \n",
      "   411.000    \t  2274.9    \n",
      "   412.000    \t  2438.1    \n",
      "   413.000    \t  2587.2    \n",
      "   414.000    \t  2749.9    \n",
      "   415.000    \t  2952.9    \n",
      "   416.000    \t  3151.8    \n",
      "   417.000    \t  3372.7    \n",
      "   418.000    \t  3593.5    \n",
      "   419.000    \t  3789.7    \n",
      "\n",
      "\n",
      "\n",
      "\n",
      "\n"
     ]
    }
   ],
   "source": [
    "dat_file = r\"C:\\Users\\user\\Desktop\\New folder\\res.dat\"   \n",
    "\n",
    "with open(dat_file, 'r') as file:\n",
    "    text = file.read()\n",
    "    print(text)"
   ]
  },
  {
   "cell_type": "code",
   "execution_count": 5,
   "id": "55034e65",
   "metadata": {},
   "outputs": [],
   "source": [
    "# conversion .dat file to csv file\n",
    "with open(dat_file) as dat_file, open('file.csv', 'w') as csv_file:\n",
    "    csv_writer = csv.writer(csv_file)\n",
    "\n",
    "    for line in dat_file:\n",
    "        row = [field.strip() for field in line.split('|')]\n",
    "        if len(row) == 3 and row[6] and row[4]:\n",
    "            csv_writer.writerow(row)"
   ]
  },
  {
   "cell_type": "code",
   "execution_count": 6,
   "id": "3bfa6e64",
   "metadata": {},
   "outputs": [
    {
     "name": "stdout",
     "output_type": "stream",
     "text": [
      "<_csv.writer object at 0x000001EB42B27DC0>\n"
     ]
    }
   ],
   "source": [
    "print(csv_writer)"
   ]
  },
  {
   "cell_type": "code",
   "execution_count": 7,
   "id": "4c6f785b",
   "metadata": {},
   "outputs": [],
   "source": [
    "#display the chart \n"
   ]
  },
  {
   "cell_type": "code",
   "execution_count": 8,
   "id": "53449bf4",
   "metadata": {},
   "outputs": [
    {
     "name": "stderr",
     "output_type": "stream",
     "text": [
      "2022-10-31 12:53:29.655 \n",
      "  \u001b[33m\u001b[1mWarning:\u001b[0m to view this Streamlit app on a browser, run it with the following\n",
      "  command:\n",
      "\n",
      "    streamlit run C:\\Users\\user\\.conda\\envs\\gee\\lib\\site-packages\\ipykernel_launcher.py [ARGUMENTS]\n"
     ]
    },
    {
     "data": {
      "text/plain": [
       "DeltaGenerator(_root_container=0, _provided_cursor=None, _parent=None, _block_type=None, _form_data=None)"
      ]
     },
     "execution_count": 8,
     "metadata": {},
     "output_type": "execute_result"
    }
   ],
   "source": [
    "# Add a title and intro text\n",
    "st.title('CAFS Model')\n",
    "st.text('This is a web app to allow the user to run the crop model')"
   ]
  },
  {
   "cell_type": "code",
   "execution_count": 9,
   "id": "aef93a9b",
   "metadata": {},
   "outputs": [],
   "source": [
    "# functions to start model \n",
    "def start_model():\n",
    "    subprocess.run([r\"model.exe\"])\n",
    "\n",
    "\n",
    "def run_cap():\n",
    "    cap_button = st.button(\"Start Model\") # Give button a variable name\n",
    "    if cap_button: # Make button a condition.\n",
    "        start_model()\n",
    "        st.text(\"Executed Successfully\")\n",
    "    else:\n",
    "        return None\n",
    "run_cap()\n"
   ]
  },
  {
   "cell_type": "code",
   "execution_count": null,
   "id": "2528a35e",
   "metadata": {},
   "outputs": [],
   "source": [
    "# display the model results \n"
   ]
  }
 ],
 "metadata": {
  "kernelspec": {
   "display_name": "Python 3 (ipykernel)",
   "language": "python",
   "name": "python3"
  },
  "language_info": {
   "codemirror_mode": {
    "name": "ipython",
    "version": 3
   },
   "file_extension": ".py",
   "mimetype": "text/x-python",
   "name": "python",
   "nbconvert_exporter": "python",
   "pygments_lexer": "ipython3",
   "version": "3.10.6"
  }
 },
 "nbformat": 4,
 "nbformat_minor": 5
}
